{
 "cells": [
  {
   "cell_type": "markdown",
   "metadata": {},
   "source": [
    "https://www.greenteapress.com/thinkpython/thinkCSpy.pdf?fbclid=IwAR0-FYCE2XqCJrSvK69qSYTnkWxHo-YEcabVui1uAZ5tKUWyC09R4H4U_wE\n",
    "Problem 6.9\n"
   ]
  },
  {
   "cell_type": "code",
   "execution_count": 11,
   "metadata": {},
   "outputs": [],
   "source": [
    "def printMultiples(n, high):\n",
    "    i = 1\n",
    "    while i <= high:\n",
    "        print (n*i, '\\t')\n",
    "        i = i + 1\n",
    "#         print\n",
    "\n",
    "\n",
    "def printMultTable(high):\n",
    "    i = 1\n",
    "    while i <= high:\n",
    "        printMultiples(i, 6)\n",
    "        i = i + 1"
   ]
  },
  {
   "cell_type": "code",
   "execution_count": 12,
   "metadata": {
    "scrolled": true
   },
   "outputs": [
    {
     "name": "stdout",
     "output_type": "stream",
     "text": [
      "1 \t\n",
      "2 \t\n",
      "3 \t\n",
      "4 \t\n",
      "5 \t\n",
      "6 \t\n",
      "2 \t\n",
      "4 \t\n",
      "6 \t\n",
      "8 \t\n",
      "10 \t\n",
      "12 \t\n",
      "3 \t\n",
      "6 \t\n",
      "9 \t\n",
      "12 \t\n",
      "15 \t\n",
      "18 \t\n",
      "4 \t\n",
      "8 \t\n",
      "12 \t\n",
      "16 \t\n",
      "20 \t\n",
      "24 \t\n",
      "5 \t\n",
      "10 \t\n",
      "15 \t\n",
      "20 \t\n",
      "25 \t\n",
      "30 \t\n",
      "6 \t\n",
      "12 \t\n",
      "18 \t\n",
      "24 \t\n",
      "30 \t\n",
      "36 \t\n",
      "7 \t\n",
      "14 \t\n",
      "21 \t\n",
      "28 \t\n",
      "35 \t\n",
      "42 \t\n"
     ]
    }
   ],
   "source": [
    "printMultTable(7)"
   ]
  },
  {
   "cell_type": "markdown",
   "metadata": {},
   "source": [
    "### Rewrite"
   ]
  },
  {
   "cell_type": "code",
   "execution_count": 39,
   "metadata": {},
   "outputs": [],
   "source": [
    "#Function returns a list of values in a matrix\n",
    "def createrow(n, row):\n",
    "    ls = []\n",
    "    for i in range(1,n+1):\n",
    "        ls.append(i*row)\n",
    "    return ls\n",
    "\n",
    "def createtable(height, width):\n",
    "    tb =[]\n",
    "    for i in range(1, height+1):\n",
    "        tb.append(createrow(width, i)) \n",
    "    return tb"
   ]
  },
  {
   "cell_type": "code",
   "execution_count": 40,
   "metadata": {},
   "outputs": [
    {
     "data": {
      "text/plain": [
       "[[1, 2, 3, 4, 5, 6],\n",
       " [2, 4, 6, 8, 10, 12],\n",
       " [3, 6, 9, 12, 15, 18],\n",
       " [4, 8, 12, 16, 20, 24],\n",
       " [5, 10, 15, 20, 25, 30],\n",
       " [6, 12, 18, 24, 30, 36],\n",
       " [7, 14, 21, 28, 35, 42]]"
      ]
     },
     "execution_count": 40,
     "metadata": {},
     "output_type": "execute_result"
    }
   ],
   "source": [
    "createtable(7, 6)"
   ]
  },
  {
   "cell_type": "code",
   "execution_count": 34,
   "metadata": {},
   "outputs": [],
   "source": [
    "#Function prints each row\n",
    "def createrow(n, row):    \n",
    "    for i in range(1,n+1):\n",
    "        print(i*row, end ='  ')\n",
    "    print('\\n')\n",
    "\n",
    "def createtable(height, width):    \n",
    "    for i in range(1, height+1):\n",
    "        createrow(width, i)\n",
    "    "
   ]
  },
  {
   "cell_type": "code",
   "execution_count": 35,
   "metadata": {},
   "outputs": [
    {
     "name": "stdout",
     "output_type": "stream",
     "text": [
      "1  2  3  4  5  6  \n",
      "\n",
      "2  4  6  8  10  12  \n",
      "\n",
      "3  6  9  12  15  18  \n",
      "\n",
      "4  8  12  16  20  24  \n",
      "\n",
      "5  10  15  20  25  30  \n",
      "\n",
      "6  12  18  24  30  36  \n",
      "\n",
      "7  14  21  28  35  42  \n",
      "\n"
     ]
    }
   ],
   "source": [
    "createtable(7, 6)"
   ]
  },
  {
   "cell_type": "code",
   "execution_count": null,
   "metadata": {},
   "outputs": [],
   "source": []
  }
 ],
 "metadata": {
  "kernelspec": {
   "display_name": "Python 3",
   "language": "python",
   "name": "python3"
  },
  "language_info": {
   "codemirror_mode": {
    "name": "ipython",
    "version": 3
   },
   "file_extension": ".py",
   "mimetype": "text/x-python",
   "name": "python",
   "nbconvert_exporter": "python",
   "pygments_lexer": "ipython3",
   "version": "3.8.3"
  }
 },
 "nbformat": 4,
 "nbformat_minor": 4
}
