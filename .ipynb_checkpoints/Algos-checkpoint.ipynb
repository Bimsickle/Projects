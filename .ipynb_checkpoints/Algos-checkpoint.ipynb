{
 "cells": [
  {
   "cell_type": "markdown",
   "metadata": {},
   "source": [
    "Write a recursive function to print the following pattern:\n",
    "\n",
    " \n",
    "    #\n",
    "    ##\n",
    "    ###\n",
    "    ####\n",
    "    ##### "
   ]
  },
  {
   "cell_type": "code",
   "execution_count": 14,
   "metadata": {},
   "outputs": [
    {
     "name": "stdout",
     "output_type": "stream",
     "text": [
      "#\n",
      "##\n",
      "###\n"
     ]
    }
   ],
   "source": [
    "def hash_return(size):\n",
    "    if size ==0:\n",
    "        return 1\n",
    "    for i in range(1, size+1):\n",
    "        print(i*'#')\n",
    "    \n",
    "hash_return(3)"
   ]
  },
  {
   "cell_type": "code",
   "execution_count": 3,
   "metadata": {},
   "outputs": [
    {
     "name": "stdout",
     "output_type": "stream",
     "text": [
      "#\n",
      "##\n",
      "###\n"
     ]
    }
   ],
   "source": [
    "def hash_return(size, num = 1):\n",
    "    if size == num:\n",
    "        print(size*'#') \n",
    "    else:\n",
    "        print(num *\"#\")\n",
    "        return hash_return(size, num+1)\n",
    "    \n",
    "hash_return(3)"
   ]
  }
 ],
 "metadata": {
  "kernelspec": {
   "display_name": "Python 3",
   "language": "python",
   "name": "python3"
  },
  "language_info": {
   "codemirror_mode": {
    "name": "ipython",
    "version": 3
   },
   "file_extension": ".py",
   "mimetype": "text/x-python",
   "name": "python",
   "nbconvert_exporter": "python",
   "pygments_lexer": "ipython3",
   "version": "3.8.3"
  }
 },
 "nbformat": 4,
 "nbformat_minor": 4
}
