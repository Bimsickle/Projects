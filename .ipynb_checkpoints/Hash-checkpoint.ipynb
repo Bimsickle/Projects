{
 "cells": [
  {
   "cell_type": "code",
   "execution_count": 265,
   "metadata": {},
   "outputs": [],
   "source": [
    "def create_hash(data, size):\n",
    "    spreader = 6\n",
    "    import math\n",
    "    data = str(data)\n",
    "    val = 0\n",
    "    for i in data:\n",
    "        val += size /ord(i)\n",
    "    return math.ceil(val*spreader)-1\n",
    "\n"
   ]
  },
  {
   "cell_type": "markdown",
   "metadata": {},
   "source": [
    "If the data structure is made of multiple words, increase the spreader. Else, decrease to make room for higher hiash values"
   ]
  },
  {
   "cell_type": "code",
   "execution_count": 267,
   "metadata": {},
   "outputs": [
    {
     "name": "stdout",
     "output_type": "stream",
     "text": [
      "0\n",
      "0\n",
      "6 :  ['1', 'ac', 'in', 'mi', 'id', 'et']\n",
      "6 :  [' ', 'Tim', 'Sed', 'mus', 'dis', 'sit']\n",
      "10 :  ['54', 'Cat', '22', 'quis', 'elit', 'in,', 'nibh', 'Orci', 'amet', 'eget']\n",
      "10 :  ['felis', 'vitae', 'nulla', 'justo', 'dolor', 'augue', 'Proin', 'lacus', 'massa', 'ipsum']\n",
      "14 :  ['Angel', 'potato', 'mauris', 'cursus', 'rutrum', 'Nulla', 'mattis', 'sapien', 'tempus', 'varius', 'magnis', 'montes', 'Lorem', 'Morbi']\n",
      "6 :  ['Timothy', 'Thomas', 'Mauris', 'iaculis', 'feugiat', 'natoque']\n",
      "3 :  ['Matilda', 'nascetur', 'interdum']\n",
      "1 :  ['ridiculus']\n",
      "7 :  ['fringilla', 'vestibulum', 'venenatis', 'hendrerit', 'dignissim', 'penatibus', 'parturient']\n",
      "2 :  ['95874', 'adipiscing']\n",
      "2 :  ['condimentum', 'consectetur']\n",
      "1 :  ['sollicitudin']\n",
      "0\n",
      "0\n",
      "0\n",
      "1 :  ['Leon 1997']\n",
      "1 :  ['95103095']\n",
      "1 :  ['washing machine']\n",
      "0\n",
      "0\n",
      "0\n",
      "1 :  ['Angie Hollingworth']\n",
      "0\n",
      "1 :  ['125 street road']\n",
      "0\n",
      "0\n",
      "0\n",
      "0\n",
      "0\n",
      "0\n",
      "0\n",
      "0\n",
      "0\n",
      "0\n",
      "1 :  ['the cat and the octopus']\n",
      "0\n",
      "0\n",
      "0\n"
     ]
    }
   ],
   "source": [
    "size = 40\n",
    "my_hash  = [None] * size\n",
    "\n",
    "lorum = 'Lorem ipsum dolor sit amet consectetur adipiscing elit Morbi eget'.split()\n",
    "lorum = 'interdum massa Orci varius natoque penatibus et magnis dis parturient montes'.split() + lorum\n",
    "lorum = 'nascetur ridiculus mus Proin hendrerit nibh et lacus dignissim tempus'.split() + lorum\n",
    "lorum = 'Sed rutrum mi id venenatis condimentum Nulla dolor augue iaculis id mattis in, feugiat vitae sapien'.split() + lorum\n",
    "lorum = 'Mauris quis mauris ac elit cursus sollicitudin in quis felis Sed vitae fringilla nulla ac vestibulum justo' .split() +lorum\n",
    "\n",
    "my_data = ['Angie Hollingworth', 'the cat and the octopus' , 1, 95874, '125 street road', 'Matilda', 'Timothy', ' ', 54, 95103095, 'Thomas', 'Cat', 'washing machine', 'Leon 1997', 'Tim', 22, 'Angel', 'potato']+lorum\n",
    "\n",
    "# print(my_data)\n",
    "\n",
    "for data in my_data:\n",
    "    index = create_hash(data, 20)\n",
    "    if my_hash[index] == None:\n",
    "        my_hash[index]= [str(data)]\n",
    "    else:\n",
    "        if data not in my_hash[index]:\n",
    "            found = []\n",
    "            if type(my_hash[index]) == str:\n",
    "                my_hash[index]= my_hash[index].split()\n",
    "            for j in my_hash[index]:\n",
    "                found.append(j)\n",
    "            found.append(str(data))\n",
    "            my_hash[index] = found\n",
    "\n",
    "        \n",
    "\n",
    "for i in my_hash:\n",
    "    if i == None:\n",
    "        print(0)\n",
    "    else:\n",
    "        print(len(i), ': ', i)"
   ]
  },
  {
   "cell_type": "code",
   "execution_count": null,
   "metadata": {},
   "outputs": [],
   "source": []
  },
  {
   "cell_type": "code",
   "execution_count": null,
   "metadata": {},
   "outputs": [],
   "source": []
  }
 ],
 "metadata": {
  "kernelspec": {
   "display_name": "Python 3",
   "language": "python",
   "name": "python3"
  },
  "language_info": {
   "codemirror_mode": {
    "name": "ipython",
    "version": 3
   },
   "file_extension": ".py",
   "mimetype": "text/x-python",
   "name": "python",
   "nbconvert_exporter": "python",
   "pygments_lexer": "ipython3",
   "version": "3.8.3"
  }
 },
 "nbformat": 4,
 "nbformat_minor": 4
}
