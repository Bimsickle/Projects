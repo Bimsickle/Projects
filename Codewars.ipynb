{
 "cells": [
  {
   "cell_type": "markdown",
   "metadata": {},
   "source": [
    "## Sum of pairs"
   ]
  },
  {
   "cell_type": "markdown",
   "metadata": {},
   "source": [
    "https://www.codewars.com/kata/54d81488b981293527000c8f/train/python"
   ]
  },
  {
   "cell_type": "code",
   "execution_count": 62,
   "metadata": {},
   "outputs": [],
   "source": [
    "def sum_pairs(ints, s):\n",
    "    pair = None\n",
    "    max_position = False\n",
    "    for ind, i in enumerate(ints):\n",
    "        for dex, j in enumerate(ints):\n",
    "            if ind != dex and i+j ==s:\n",
    "                max_pair_pos = max(ind, dex)\n",
    "                if int(max_position) > max_pair_pos or max_position == False:\n",
    "                    max_position = max_pair_pos\n",
    "                    pair = [i, j]\n",
    "    return pair\n",
    "            "
   ]
  },
  {
   "cell_type": "code",
   "execution_count": null,
   "metadata": {},
   "outputs": [],
   "source": [
    "[ expression-involving-loop-variables for outer-loop-variable in outer-sequence for inner-loop-variable in inner-sequence ]\n",
    "\n",
    "results = []\n",
    "for outer_loop_variable in outer_sequence:\n",
    "    for inner_loop_variable in inner_sequence:\n",
    "        results.append( expression_involving_loop_variables )\n",
    "        \n",
    "[ expression-involving-loop-variable for loop-variable in sequence if boolean-expression-involving-loop-variable ]"
   ]
  },
  {
   "cell_type": "code",
   "execution_count": 281,
   "metadata": {},
   "outputs": [],
   "source": [
    "l1= [1, 4, 8, 7, 3, 15]\n",
    "l2= [1, -2, 3, 0, -6, 1]\n",
    "l3= [20, -13, 40]\n",
    "l4= [1, 2, 3, 4, 1, 0]\n",
    "l5= [10, 5, 2, 3, 7, 5]\n",
    "l6= [4, -2, 3, 3, 4]\n",
    "l7= [0, 2, 0]\n",
    "l8= [5, 9, 13, -3]"
   ]
  },
  {
   "cell_type": "code",
   "execution_count": 347,
   "metadata": {},
   "outputs": [],
   "source": [
    "def sum_pairs(ints, s):  \n",
    "    pair = None\n",
    "    max_position = False\n",
    "    pairs = [[i,j, max(ind, dex)] for ind, i in enumerate(ints) for dex, j in enumerate(ints) if ind <=dex and dex != ind and j+i ==s] \n",
    "    if pairs:\n",
    "        for dex, i  in enumerate(pairs):\n",
    "            if max_position == False:\n",
    "                pair = i[:2]\n",
    "                max_position= i[2]\n",
    "            if (i[2])<=max_position:\n",
    "                pair = i[:2]\n",
    "                max_position= i[2]\n",
    "    return pair\n",
    "#   "
   ]
  },
  {
   "cell_type": "code",
   "execution_count": 361,
   "metadata": {},
   "outputs": [],
   "source": [
    "def sum_pairs(ints, s):  \n",
    "    \n",
    "    return [[i,j, max(ind, dex)] for ind, i in enumerate(ints) for dex, j in enumerate(ints) if ind <=dex and dex != ind and j+i ==s] \n",
    "#     return [[i,j] for ind, i in enumerate(ints) for dex, j in enumerate(ints) if j+i==s and ind != dex and ind <=dex ] \n",
    "    \n",
    "    "
   ]
  },
  {
   "cell_type": "code",
   "execution_count": 363,
   "metadata": {},
   "outputs": [],
   "source": [
    "def sum_pairs(ints, s):\n",
    "    pair = None\n",
    "    max_position = False\n",
    "    for ind, i in enumerate(ints):\n",
    "        for dex, j in enumerate(ints):\n",
    "            if ind != dex and i+j ==s:\n",
    "                max_pair_pos = max(ind, dex)\n",
    "                if int(max_position) > max_pair_pos or max_position == False:\n",
    "                    max_position = max_pair_pos\n",
    "                    pair = [i, j]\n",
    "    return pair"
   ]
  },
  {
   "cell_type": "code",
   "execution_count": 364,
   "metadata": {},
   "outputs": [
    {
     "name": "stdout",
     "output_type": "stream",
     "text": [
      "Testing For Sum of Pairs\n",
      "[1, 7] [1, 7] Basic: [1, 4, 8, 7, 3, 15] should return [1, 7] for sum = 8\n",
      "[0, -6] [0, -6] Negatives: [1, -2, 3, 0, -6, 1] should return [0, -6] for sum = -6\n",
      "None None No Match: [20, -13, 40] should return None for sum = -7\n",
      "[1, 1] [1, 1] First Match From Left: [1, 2, 3, 4, 1, 0] should return [1, 1] for sum = 2 \n",
      "[3, 7] [3, 7] First Match From Left REDUX!: [10, 5, 2, 3, 7, 5] should return [3, 7] for sum = 10 \n",
      "[4, 4] [4, 4] Duplicates: [4, -2, 3, 3, 4] should return [4, 4] for sum = 8\n",
      "[0, 0] [0, 0] Zeroes: [0, 2, 0] should return [0, 0] for sum = 0\n",
      "[13, -3] [13, -3] Subtraction: [5, 9, 13, -3] should return [13, -3] for sum = 10\n"
     ]
    }
   ],
   "source": [
    "print(\"Testing For Sum of Pairs\")\n",
    "print(sum_pairs(l1, 8),[1, 7], \"Basic: %s should return [1, 7] for sum = 8\" % l1)\n",
    "print(sum_pairs(l2, -6),[0, -6], \"Negatives: %s should return [0, -6] for sum = -6\" % l2)\n",
    "print(sum_pairs(l3, -7), None, \"No Match: %s should return None for sum = -7\" % l3)\n",
    "print(sum_pairs(l4, 2), [1, 1], \"First Match From Left: %s should return [1, 1] for sum = 2 \" % l4)\n",
    "print(sum_pairs(l5, 10), [3, 7], \"First Match From Left REDUX!: %s should return [3, 7] for sum = 10 \" % l5)\n",
    "print(sum_pairs(l6, 8), [4, 4], \"Duplicates: %s should return [4, 4] for sum = 8\" % l6)\n",
    "print(sum_pairs(l7, 0), [0, 0], \"Zeroes: %s should return [0, 0] for sum = 0\" % l7)\n",
    "print(sum_pairs(l8, 10), [13, -3], \"Subtraction: %s should return [13, -3] for sum = 10\" % l8)"
   ]
  },
  {
   "cell_type": "markdown",
   "metadata": {},
   "source": [
    "## Roman numerals helper"
   ]
  },
  {
   "cell_type": "markdown",
   "metadata": {},
   "source": [
    "https://www.codewars.com/kata/51b66044bce5799a7f000003/train/python"
   ]
  },
  {
   "cell_type": "code",
   "execution_count": 209,
   "metadata": {},
   "outputs": [],
   "source": [
    "class RomanNumerals:\n",
    "    \n",
    "    def to_roman(num):\n",
    "        rom=''\n",
    "        total = 0\n",
    "        if num//1000>0:\n",
    "            rom = rom+ ((num//1000)*'M')\n",
    "            total += (num//1000)*1000\n",
    "        if (num-total)//100>0:\n",
    "            if (num-total)//100 ==9:\n",
    "                rom = rom+ ('CM')\n",
    "                total += 900\n",
    "            elif (num-total)//100>4:\n",
    "                c = ((num-total)//100)-5\n",
    "                rom = rom+ ('D')\n",
    "                total += 500\n",
    "                for r in range(0,c):\n",
    "                    rom = rom+ ('C')\n",
    "                    total += 100\n",
    "            elif (num-total)//100==4:\n",
    "                rom = rom+ ('CD')\n",
    "                total += 400\n",
    "            else:\n",
    "                rom = rom+ (((num-total)//100)*'C')\n",
    "                total += ((num-total)//100)*100\n",
    "        if (num-total)//10>0:\n",
    "            if ((num-total)//10)==9:\n",
    "                rom = rom+ ('XC')\n",
    "                total += 90\n",
    "            elif ((num-total)//10)>4:\n",
    "                c = ((num-total)//10)-5\n",
    "                rom = rom+ ('L')\n",
    "                total += 50\n",
    "                for r in range(0,c):\n",
    "                    rom = rom+ ('X')\n",
    "                    total += 10\n",
    "        if (num-total)==9:\n",
    "            rom = rom+ ('IX')\n",
    "            total += 9\n",
    "        if (num-total)>4:\n",
    "            rom = rom+ ('V')\n",
    "            c = (num-total)-5\n",
    "            total += 5\n",
    "            for r in range(0,c):\n",
    "                rom = rom+ ('I')\n",
    "                total += 1\n",
    "        elif (num-total)==4:\n",
    "            rom = rom+ ('IV')\n",
    "            total += 4\n",
    "        else:\n",
    "            for i in range(0,(num-total)):\n",
    "                rom = rom+ ('I')\n",
    "            total += 1     \n",
    "        return(rom)\n",
    "    \n",
    "    def from_roman(rom):\n",
    "        conv = {'I':1, 'V':5, 'X':10, 'L':50, 'C':100, 'D':500, 'M':1000}\n",
    "        num = conv[rom[0]]\n",
    "        for numeral in range(1,len(rom)):\n",
    "            if conv[rom[numeral]]>conv[rom[numeral-1]]:\n",
    "                num += conv[rom[numeral]]-(conv[rom[numeral-1]]*2)\n",
    "            else:\n",
    "                num+= conv[rom[numeral]]\n",
    "        return num"
   ]
  },
  {
   "cell_type": "code",
   "execution_count": 210,
   "metadata": {},
   "outputs": [
    {
     "data": {
      "text/plain": [
       "'MCMXCIII'"
      ]
     },
     "execution_count": 210,
     "metadata": {},
     "output_type": "execute_result"
    }
   ],
   "source": [
    "RomanNumerals.to_roman(1993)"
   ]
  },
  {
   "cell_type": "code",
   "execution_count": 211,
   "metadata": {},
   "outputs": [
    {
     "data": {
      "text/plain": [
       "1000"
      ]
     },
     "execution_count": 211,
     "metadata": {},
     "output_type": "execute_result"
    }
   ],
   "source": [
    "RomanNumerals.from_roman('M')"
   ]
  },
  {
   "cell_type": "code",
   "execution_count": 171,
   "metadata": {},
   "outputs": [],
   "source": [
    "for j in range(0,0):\n",
    "    print(True)"
   ]
  },
  {
   "cell_type": "code",
   "execution_count": 172,
   "metadata": {},
   "outputs": [
    {
     "name": "stdout",
     "output_type": "stream",
     "text": [
      "M M 1000 should == \"M\"\n",
      "MCMXC MCMXC 1990 should == \"MCMXC\"\n",
      "21 21 XXI should == 21\n",
      "2008 2008 MMVIII should == 2008\n"
     ]
    }
   ],
   "source": [
    "print(RomanNumerals.to_roman(1000), 'M', '1000 should == \"M\"')\n",
    "print(RomanNumerals.to_roman(1990), 'MCMXC', '1990 should == \"MCMXC\"')\n",
    "\n",
    "print(RomanNumerals.from_roman('XXI'), 21, 'XXI should == 21')\n",
    "print(RomanNumerals.from_roman('MMVIII'), 2008, 'MMVIII should == 2008')\n"
   ]
  },
  {
   "cell_type": "markdown",
   "metadata": {},
   "source": [
    "## Snails"
   ]
  },
  {
   "cell_type": "markdown",
   "metadata": {},
   "source": [
    "https://www.codewars.com/kata/521c2db8ddc89b9b7a0000c1/train/python\n"
   ]
  },
  {
   "cell_type": "code",
   "execution_count": null,
   "metadata": {},
   "outputs": [],
   "source": [
    "'''Snail Sort\n",
    "Given an n x n array, return the array elements arranged from outermost elements to the middle element, traveling clockwise.\n",
    "\n",
    "array = [[1,2,3],\n",
    "         [4,5,6],\n",
    "         [7,8,9]]\n",
    "snail(array) #=> [1,2,3,6,9,8,7,4,5]\n",
    "For better understanding, please follow the numbers of the next array consecutively:\n",
    "\n",
    "array = [[1,2,3],\n",
    "         [8,9,4],\n",
    "         [7,6,5]]\n",
    "snail(array) #=> [1,2,3,4,5,6,7,8,9]'''"
   ]
  },
  {
   "cell_type": "code",
   "execution_count": 11,
   "metadata": {},
   "outputs": [],
   "source": [
    "def snail(snail_map):\n",
    "    rotation = 1\n",
    "    output = []\n",
    "    for n in range(0, len(snail_map)):\n",
    "        m = n\n",
    "        output.append(snail_map[n][m])\n",
    "    return output   "
   ]
  },
  {
   "cell_type": "code",
   "execution_count": 12,
   "metadata": {},
   "outputs": [
    {
     "data": {
      "text/plain": [
       "([1, 9, 5], [1, 2, 3, 4, 5, 6, 7, 8, 9])"
      ]
     },
     "execution_count": 12,
     "metadata": {},
     "output_type": "execute_result"
    }
   ],
   "source": [
    "array = [[1,2,3],\n",
    "         [4,5,6],\n",
    "         [7,8,9]]\n",
    "expected = [1,2,3,6,9,8,7,4,5]\n",
    "snail(array), expected\n",
    "\n",
    "\n",
    "array = [[1,2,3],\n",
    "         [8,9,4],\n",
    "         [7,6,5]]\n",
    "expected = [1,2,3,4,5,6,7,8,9]\n",
    "snail(array), expected"
   ]
  },
  {
   "cell_type": "markdown",
   "metadata": {},
   "source": [
    "### Connect Four"
   ]
  },
  {
   "cell_type": "markdown",
   "metadata": {},
   "source": [
    "https://www.codewars.com/kata/56882731514ec3ec3d000009/train/python"
   ]
  },
  {
   "cell_type": "code",
   "execution_count": 43,
   "metadata": {},
   "outputs": [
    {
     "data": {
      "text/plain": [
       "{'A': [0, 0, 0, 0, 0, 0],\n",
       " 'B': [0, 0, 0, 0, 0, 0],\n",
       " 'C': [0, 0, 0, 0, 0, 0],\n",
       " 'D': [0, 0, 0, 0, 0, 0],\n",
       " 'E': [0, 0, 0, 0, 0, 0],\n",
       " 'F': [0, 0, 0, 0, 0, 0],\n",
       " 'G': [0, 0, 0, 0, 0, 0]}"
      ]
     },
     "execution_count": 43,
     "metadata": {},
     "output_type": "execute_result"
    }
   ],
   "source": [
    "b = {'A': [0, 0, 0, 0, 0, 0],\n",
    "  'B': [0, 0, 0, 0, 0, 0],\n",
    "  'C': [0, 0, 0, 0, 0, 0],\n",
    "  'D': [0, 0, 0, 0, 0, 0],\n",
    "  'E': [0, 0, 0, 0, 0, 0],\n",
    "  'F': [0, 0, 0, 0, 0, 0],\n",
    "  'G': [0, 0, 0, 0, 0, 0]}\n",
    "b"
   ]
  },
  {
   "cell_type": "code",
   "execution_count": 57,
   "metadata": {},
   "outputs": [
    {
     "name": "stdout",
     "output_type": "stream",
     "text": [
      "A\n",
      "B\n",
      "C\n",
      "D\n",
      "E\n",
      "F\n",
      "G\n"
     ]
    }
   ],
   "source": [
    "for k in b.keys():\n",
    "    print(k)"
   ]
  },
  {
   "cell_type": "code",
   "execution_count": 64,
   "metadata": {},
   "outputs": [],
   "source": [
    "def who_is_winner(pieces_position_list):\n",
    "    board = {}\n",
    "    for c in range(0,7):\n",
    "        board[chr(65+c)] = [0]*6\n",
    "    for i in pieces_position_list:\n",
    "        for row in range(0, len(board[i[0]])):\n",
    "            if board[i[0]][row] == 0:\n",
    "                board[i[0]][row] = ('Red' if 'Red' in i else 'Yellow')\n",
    "                break\n",
    "        results = [check_column(board), check_row(board), check_diag(board)]\n",
    "        for result in results:\n",
    "            if result == 'Red' or result=='Yellow':\n",
    "                return result\n",
    "    return 'Draw'\n",
    "    \n",
    "    \n",
    "def check_column(board):\n",
    "    for col in board.keys():\n",
    "        win = 0\n",
    "        check = board[col][0]\n",
    "        for row in range(0,6):\n",
    "            if board[col][row] == check and check !=0:\n",
    "                win +=1\n",
    "                if win ==4:\n",
    "                    return check\n",
    "            else:\n",
    "                win = 1\n",
    "                check = board[col][row]\n",
    "#     return 'Draw'\n",
    "\n",
    "            \n",
    "def check_row(board):\n",
    "    for row in range(0, 6):\n",
    "        current = 0\n",
    "        win = 1\n",
    "        for k in board.keys():\n",
    "            if current == 0 and board[k][row]!=0:\n",
    "                current = board[k][row]     \n",
    "                win = 1\n",
    "            else:\n",
    "                if board[k][row] == current:\n",
    "                    win +=1\n",
    "                    if win>=4:\n",
    "                        return current\n",
    "                else:\n",
    "                    win = 1\n",
    "                    current = board[k][row]\n",
    "#     return 'Draw'\n",
    "\n",
    "def check_diag(board):\n",
    "    for col in board.keys():\n",
    "        current = board[col][0]\n",
    "        win = 1\n",
    "        for row in range(1,5):\n",
    "            if chr(ord(col)+row) in board.keys():\n",
    "                if board[chr(ord(col)+row)][row] == current:\n",
    "                    win +=1\n",
    "                    if win>=4:\n",
    "                            return current\n",
    "                else:\n",
    "                    current= board[chr(ord(col)+row)][row]\n",
    "                    win = 1                  \n",
    "    \n",
    "    for col in board.keys():\n",
    "        current = board[col][5]\n",
    "        win = 1\n",
    "        for row in range(5,0,-1):\n",
    "            if chr(ord(col)+row) in board.keys():\n",
    "                if board[chr(ord(col)+row)][row] == current:\n",
    "                    win +=1\n",
    "                    if win>=4:\n",
    "                            return current\n",
    "                else:\n",
    "                    current= board[chr(ord(col)+row)][row]\n",
    "                    win = 1\n",
    "\n",
    "#     return 'Draw'\n",
    "        \n",
    "  \n",
    "        \n"
   ]
  },
  {
   "cell_type": "code",
   "execution_count": 65,
   "metadata": {},
   "outputs": [
    {
     "data": {
      "text/plain": [
       "('Yellow', 'Yellow')"
      ]
     },
     "execution_count": 65,
     "metadata": {},
     "output_type": "execute_result"
    }
   ],
   "source": [
    "who_is_winner([\n",
    "\"C_Yellow\", \"B_Red\", \"B_Yellow\", \"E_Red\", \"D_Yellow\", \"G_Red\", \"B_Yellow\", \"G_Red\", \"E_Yellow\", \"A_Red\", \n",
    "\"G_Yellow\", \"C_Red\", \"A_Yellow\", \"A_Red\", \"D_Yellow\", \"B_Red\", \"G_Yellow\", \"A_Red\", \"F_Yellow\", \"B_Red\", \n",
    "\"D_Yellow\", \"A_Red\", \"F_Yellow\", \"F_Red\", \"B_Yellow\", \"F_Red\", \"F_Yellow\", \"G_Red\", \"A_Yellow\", \"F_Red\", \n",
    "\"C_Yellow\", \"C_Red\", \"G_Yellow\", \"C_Red\", \"D_Yellow\", \"D_Red\", \"E_Yellow\", \"D_Red\", \"E_Yellow\", \"C_Red\", \n",
    "\"E_Yellow\", \"E_Red\"\n",
    "]), \"Yellow\""
   ]
  },
  {
   "cell_type": "code",
   "execution_count": 66,
   "metadata": {},
   "outputs": [
    {
     "data": {
      "text/plain": [
       "('Yellow', 'Yellow')"
      ]
     },
     "execution_count": 66,
     "metadata": {},
     "output_type": "execute_result"
    }
   ],
   "source": [
    "who_is_winner([ \n",
    "\"C_Yellow\", \"E_Red\", \"G_Yellow\", \"B_Red\", \"D_Yellow\", \"B_Red\", \"B_Yellow\", \"G_Red\", \"C_Yellow\", \"C_Red\",\n",
    "\"D_Yellow\", \"F_Red\", \"E_Yellow\", \"A_Red\", \"A_Yellow\", \"G_Red\", \"A_Yellow\", \"F_Red\", \"F_Yellow\", \"D_Red\", \n",
    "\"B_Yellow\", \"E_Red\", \"D_Yellow\", \"A_Red\", \"G_Yellow\", \"D_Red\", \"D_Yellow\", \"C_Red\"\n",
    "]), \"Yellow\""
   ]
  },
  {
   "cell_type": "code",
   "execution_count": 67,
   "metadata": {},
   "outputs": [
    {
     "data": {
      "text/plain": [
       "('Red', 'Red')"
      ]
     },
     "execution_count": 67,
     "metadata": {},
     "output_type": "execute_result"
    }
   ],
   "source": [
    "who_is_winner([\n",
    "\"F_Yellow\", \"G_Red\", \"D_Yellow\", \"C_Red\", \"A_Yellow\", \"A_Red\", \"E_Yellow\", \"D_Red\", \"D_Yellow\", \"F_Red\", \n",
    "\"B_Yellow\", \"E_Red\", \"C_Yellow\", \"D_Red\", \"F_Yellow\", \"D_Red\", \"D_Yellow\", \"F_Red\", \"G_Yellow\", \"C_Red\", \n",
    "\"F_Yellow\", \"E_Red\", \"A_Yellow\", \"A_Red\", \"C_Yellow\", \"B_Red\", \"E_Yellow\", \"C_Red\", \"E_Yellow\", \"G_Red\", \n",
    "\"A_Yellow\", \"A_Red\", \"G_Yellow\", \"C_Red\", \"B_Yellow\", \"E_Red\", \"F_Yellow\", \"G_Red\", \"G_Yellow\", \"B_Red\", \n",
    "\"B_Yellow\", \"B_Red\"\n",
    "]), \"Red\""
   ]
  },
  {
   "cell_type": "code",
   "execution_count": 56,
   "metadata": {},
   "outputs": [
    {
     "data": {
      "text/plain": [
       "('Red', 'Red')"
      ]
     },
     "execution_count": 56,
     "metadata": {},
     "output_type": "execute_result"
    }
   ],
   "source": [
    "who_is_winner([\n",
    "\"A_Yellow\", \"B_Red\", \"B_Yellow\", \"C_Red\", \"G_Yellow\", \"C_Red\", \"C_Yellow\", \"D_Red\", \"G_Yellow\", \"D_Red\",\n",
    "\"G_Yellow\", \"D_Red\", \"F_Yellow\", \"E_Red\", \"D_Yellow\"\n",
    "]), \"Red\""
   ]
  },
  {
   "cell_type": "markdown",
   "metadata": {},
   "source": [
    "### Playing with digits"
   ]
  },
  {
   "cell_type": "markdown",
   "metadata": {},
   "source": [
    "https://www.codewars.com/kata/5552101f47fc5178b1000050/solutions/python"
   ]
  },
  {
   "cell_type": "code",
   "execution_count": 72,
   "metadata": {},
   "outputs": [],
   "source": [
    "def dig_pow(n, p):\n",
    "    k,c = 0, 0\n",
    "    for i in str(n):\n",
    "        k+=int(i)**(p+c)\n",
    "        c+=1\n",
    "    return int(k)/n if type(int(k)/n) == int and int(k)/n>0 else -1"
   ]
  },
  {
   "cell_type": "code",
   "execution_count": 83,
   "metadata": {},
   "outputs": [],
   "source": [
    "def dig_pow(n, p):\n",
    "    k,c = 0, 0\n",
    "    for i in str(n):\n",
    "        k+=int(i)**(p+c)\n",
    "        c+=1\n",
    "    return int(k/n) if int(k/n) == int(k)/n else -1"
   ]
  },
  {
   "cell_type": "code",
   "execution_count": 84,
   "metadata": {},
   "outputs": [
    {
     "data": {
      "text/plain": [
       "(51, 51)"
      ]
     },
     "execution_count": 84,
     "metadata": {},
     "output_type": "execute_result"
    }
   ],
   "source": [
    "dig_pow(46288, 3), 51"
   ]
  },
  {
   "cell_type": "code",
   "execution_count": 85,
   "metadata": {},
   "outputs": [
    {
     "data": {
      "text/plain": [
       "(-1, -1)"
      ]
     },
     "execution_count": 85,
     "metadata": {},
     "output_type": "execute_result"
    }
   ],
   "source": [
    "dig_pow(92, 1), -1"
   ]
  },
  {
   "cell_type": "code",
   "execution_count": null,
   "metadata": {},
   "outputs": [],
   "source": []
  }
 ],
 "metadata": {
  "kernelspec": {
   "display_name": "Python 3",
   "language": "python",
   "name": "python3"
  },
  "language_info": {
   "codemirror_mode": {
    "name": "ipython",
    "version": 3
   },
   "file_extension": ".py",
   "mimetype": "text/x-python",
   "name": "python",
   "nbconvert_exporter": "python",
   "pygments_lexer": "ipython3",
   "version": "3.8.3"
  }
 },
 "nbformat": 4,
 "nbformat_minor": 4
}
