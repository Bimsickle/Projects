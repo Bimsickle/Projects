{
 "cells": [
  {
   "cell_type": "markdown",
   "metadata": {},
   "source": [
    "### Connect Four"
   ]
  },
  {
   "cell_type": "markdown",
   "metadata": {},
   "source": [
    "https://www.codewars.com/kata/56882731514ec3ec3d000009/train/python"
   ]
  },
  {
   "cell_type": "code",
   "execution_count": 113,
   "metadata": {},
   "outputs": [
    {
     "data": {
      "text/plain": [
       "{'A': [0, 0, 0, 0, 0, 0],\n",
       " 'B': [0, 0, 0, 0, 0, 0],\n",
       " 'C': [0, 0, 0, 0, 0, 0],\n",
       " 'D': [0, 0, 0, 0, 0, 0],\n",
       " 'E': [0, 0, 0, 0, 0, 0],\n",
       " 'F': [0, 0, 0, 0, 0, 0],\n",
       " 'G': [0, 0, 0, 0, 0, 0]}"
      ]
     },
     "execution_count": 113,
     "metadata": {},
     "output_type": "execute_result"
    }
   ],
   "source": [
    "b = {'A': [0, 0, 0, 0, 0, 0],\n",
    "  'B': [0, 0, 0, 0, 0, 0],\n",
    "  'C': [0, 0, 0, 0, 0, 0],\n",
    "  'D': [0, 0, 0, 0, 0, 0],\n",
    "  'E': [0, 0, 0, 0, 0, 0],\n",
    "  'F': [0, 0, 0, 0, 0, 0],\n",
    "  'G': [0, 0, 0, 0, 0, 0]}\n",
    "b"
   ]
  },
  {
   "cell_type": "code",
   "execution_count": 159,
   "metadata": {},
   "outputs": [
    {
     "data": {
      "text/plain": [
       "7"
      ]
     },
     "execution_count": 159,
     "metadata": {},
     "output_type": "execute_result"
    }
   ],
   "source": [
    "len(b)"
   ]
  },
  {
   "cell_type": "code",
   "execution_count": 256,
   "metadata": {},
   "outputs": [],
   "source": [
    "def who_is_winner(pieces_position_list):\n",
    "    board = {}\n",
    "    for c in range(0,7):\n",
    "        board[chr(65+c)] = [0]*6\n",
    "    for i in pieces_position_list:\n",
    "        for row in range(0, len(board[i[0]])):\n",
    "            if board[i[0]][row] == 0:\n",
    "                board[i[0]][row] = ('Red' if 'Red' in i else 'Yellow')\n",
    "                break\n",
    "                \n",
    "#     Check columns            \n",
    "    for col in board.keys():\n",
    "        if (board[col][3] == board[col][2] or board[col][3] == board[col][4]) and (board[col][3]!=0):\n",
    "            win = 0\n",
    "            check = board[col][3]\n",
    "            for row in board[col]:\n",
    "                if row == check:\n",
    "                    win +=1\n",
    "                else:\n",
    "                    win = 0\n",
    "            if win >=4:\n",
    "                return check\n",
    "            \n",
    "    for row in range(0, 6):\n",
    "        current = 0\n",
    "        win = 1\n",
    "        for k in board.keys():\n",
    "            if current == 0:\n",
    "                current = board[k][row]     \n",
    "                win = 1\n",
    "            else:\n",
    "                if board[k][row] == current:\n",
    "                    win +=1\n",
    "                    if win>=4:\n",
    "                        return current\n",
    "                else:\n",
    "                    win = 1\n",
    "                    current = board[k][row]\n",
    "                    \n",
    "        \n",
    "\n",
    "        \n",
    "    return board  \n",
    "        \n"
   ]
  },
  {
   "cell_type": "code",
   "execution_count": 257,
   "metadata": {},
   "outputs": [
    {
     "data": {
      "text/plain": [
       "({'A': ['Red', 'Yellow', 'Yellow', 'Red', 0, 0],\n",
       "  'B': ['Red', 'Red', 'Yellow', 'Yellow', 0, 0],\n",
       "  'C': ['Yellow', 'Yellow', 'Red', 'Red', 0, 0],\n",
       "  'D': ['Yellow', 'Yellow', 'Red', 'Yellow', 'Red', 'Yellow'],\n",
       "  'E': ['Red', 'Yellow', 'Red', 0, 0, 0],\n",
       "  'F': ['Red', 'Red', 'Yellow', 0, 0, 0],\n",
       "  'G': ['Yellow', 'Red', 'Red', 'Yellow', 0, 0]},\n",
       " 'Yellow')"
      ]
     },
     "execution_count": 257,
     "metadata": {},
     "output_type": "execute_result"
    }
   ],
   "source": [
    "who_is_winner([ \n",
    "\"C_Yellow\", \"E_Red\", \"G_Yellow\", \"B_Red\", \"D_Yellow\", \"B_Red\", \"B_Yellow\", \"G_Red\", \"C_Yellow\", \"C_Red\",\n",
    "\"D_Yellow\", \"F_Red\", \"E_Yellow\", \"A_Red\", \"A_Yellow\", \"G_Red\", \"A_Yellow\", \"F_Red\", \"F_Yellow\", \"D_Red\", \n",
    "\"B_Yellow\", \"E_Red\", \"D_Yellow\", \"A_Red\", \"G_Yellow\", \"D_Red\", \"D_Yellow\", \"C_Red\"\n",
    "]), \"Yellow\""
   ]
  },
  {
   "cell_type": "code",
   "execution_count": 259,
   "metadata": {},
   "outputs": [
    {
     "data": {
      "text/plain": [
       "({'A': ['Yellow', 'Red', 'Yellow', 'Red', 'Yellow', 'Red'],\n",
       "  'B': ['Yellow', 'Red', 'Yellow', 'Red', 'Yellow', 'Red'],\n",
       "  'C': ['Red', 'Yellow', 'Red', 'Yellow', 'Red', 'Red'],\n",
       "  'D': ['Yellow', 'Red', 'Yellow', 'Red', 'Red', 'Yellow'],\n",
       "  'E': ['Yellow', 'Red', 'Red', 'Yellow', 'Yellow', 'Red'],\n",
       "  'F': ['Yellow', 'Red', 'Yellow', 'Red', 'Yellow', 'Yellow'],\n",
       "  'G': ['Red', 'Yellow', 'Red', 'Yellow', 'Red', 'Yellow']},\n",
       " 'Red')"
      ]
     },
     "execution_count": 259,
     "metadata": {},
     "output_type": "execute_result"
    }
   ],
   "source": [
    "who_is_winner([\n",
    "\"F_Yellow\", \"G_Red\", \"D_Yellow\", \"C_Red\", \"A_Yellow\", \"A_Red\", \"E_Yellow\", \"D_Red\", \"D_Yellow\", \"F_Red\", \n",
    "\"B_Yellow\", \"E_Red\", \"C_Yellow\", \"D_Red\", \"F_Yellow\", \"D_Red\", \"D_Yellow\", \"F_Red\", \"G_Yellow\", \"C_Red\", \n",
    "\"F_Yellow\", \"E_Red\", \"A_Yellow\", \"A_Red\", \"C_Yellow\", \"B_Red\", \"E_Yellow\", \"C_Red\", \"E_Yellow\", \"G_Red\", \n",
    "\"A_Yellow\", \"A_Red\", \"G_Yellow\", \"C_Red\", \"B_Yellow\", \"E_Red\", \"F_Yellow\", \"G_Red\", \"G_Yellow\", \"B_Red\", \n",
    "\"B_Yellow\", \"B_Red\"\n",
    "]), \"Red\""
   ]
  },
  {
   "cell_type": "code",
   "execution_count": 258,
   "metadata": {},
   "outputs": [
    {
     "data": {
      "text/plain": [
       "('Red', 'Red')"
      ]
     },
     "execution_count": 258,
     "metadata": {},
     "output_type": "execute_result"
    }
   ],
   "source": [
    "who_is_winner([\n",
    "\"A_Yellow\", \"B_Red\", \"B_Yellow\", \"C_Red\", \"G_Yellow\", \"C_Red\", \"C_Yellow\", \"D_Red\", \"G_Yellow\", \"D_Red\",\n",
    "\"G_Yellow\", \"D_Red\", \"F_Yellow\", \"E_Red\", \"D_Yellow\"\n",
    "]), \"Red\""
   ]
  },
  {
   "cell_type": "markdown",
   "metadata": {},
   "source": [
    "### Playing with digits"
   ]
  },
  {
   "cell_type": "markdown",
   "metadata": {},
   "source": [
    "https://www.codewars.com/kata/5552101f47fc5178b1000050/solutions/python"
   ]
  },
  {
   "cell_type": "code",
   "execution_count": 72,
   "metadata": {},
   "outputs": [],
   "source": [
    "def dig_pow(n, p):\n",
    "    k,c = 0, 0\n",
    "    for i in str(n):\n",
    "        k+=int(i)**(p+c)\n",
    "        c+=1\n",
    "    return int(k)/n if type(int(k)/n) == int and int(k)/n>0 else -1"
   ]
  },
  {
   "cell_type": "code",
   "execution_count": 83,
   "metadata": {},
   "outputs": [],
   "source": [
    "def dig_pow(n, p):\n",
    "    k,c = 0, 0\n",
    "    for i in str(n):\n",
    "        k+=int(i)**(p+c)\n",
    "        c+=1\n",
    "    return int(k/n) if int(k/n) == int(k)/n else -1"
   ]
  },
  {
   "cell_type": "code",
   "execution_count": 84,
   "metadata": {},
   "outputs": [
    {
     "data": {
      "text/plain": [
       "(51, 51)"
      ]
     },
     "execution_count": 84,
     "metadata": {},
     "output_type": "execute_result"
    }
   ],
   "source": [
    "dig_pow(46288, 3), 51"
   ]
  },
  {
   "cell_type": "code",
   "execution_count": 85,
   "metadata": {},
   "outputs": [
    {
     "data": {
      "text/plain": [
       "(-1, -1)"
      ]
     },
     "execution_count": 85,
     "metadata": {},
     "output_type": "execute_result"
    }
   ],
   "source": [
    "dig_pow(92, 1), -1"
   ]
  },
  {
   "cell_type": "code",
   "execution_count": null,
   "metadata": {},
   "outputs": [],
   "source": []
  }
 ],
 "metadata": {
  "kernelspec": {
   "display_name": "Python 3",
   "language": "python",
   "name": "python3"
  },
  "language_info": {
   "codemirror_mode": {
    "name": "ipython",
    "version": 3
   },
   "file_extension": ".py",
   "mimetype": "text/x-python",
   "name": "python",
   "nbconvert_exporter": "python",
   "pygments_lexer": "ipython3",
   "version": "3.8.3"
  }
 },
 "nbformat": 4,
 "nbformat_minor": 4
}
